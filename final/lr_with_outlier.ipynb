{
 "cells": [
  {
   "cell_type": "code",
   "execution_count": 17,
   "metadata": {},
   "outputs": [],
   "source": [
    "from math import sqrt\n",
    "import numpy as np \n",
    "import random\n",
    "import matplotlib.pyplot as plt\n",
    "\n",
    "def find_sd(lst, lst_mean):\n",
    "    total_a = sum([(abs(x-lst_mean))**2 for x in lst])\n",
    "    divide_by_n = total_a/len(lst)\n",
    "    sqr_a = divide_by_n ** 0.5\n",
    "    return sqr_a\n",
    "\n",
    "def find_normal_dist(lst, lst_mean, lst_sd):\n",
    "    my_pi = 3.14159\n",
    "    my_e = 2.71828\n",
    "    sqrt_2pi = (2 * my_pi) **0.5\n",
    "    part1 = 1/(lst_sd* sqrt_2pi)\n",
    "    \n",
    "    \n",
    "    # y = [part1* (my_e **(-0.5*(((x - lst_mean)/lst_sd)**2))) for x in lst]\n",
    "    y = [(my_e **(((-0.5*(x**2)))))/sqrt_2pi for x in lst]\n",
    "    return y\n",
    "\n",
    "\n",
    "##Second attempt\n",
    "x2 = np.array([random.uniform(0.0,100.0) for x in range(20) ])\n",
    "rand_vals = [random.uniform(-1.0,1.0) for x in range(20) ]\n",
    "rand_vals_mean = sum(rand_vals)/20\n",
    "rand_vals_sd =  find_sd(rand_vals, rand_vals_mean)\n",
    "\n",
    "rand_normal_distribute = find_normal_dist(rand_vals,rand_vals_mean,rand_vals_sd)\n",
    "# print(\"rand_normal_distribute: \",np.round(rand_normal_distribute,2))\n",
    "\n",
    "y2 = np.array([(50*i)+ 22 +j for i,j in zip(x2,rand_normal_distribute) ])\n",
    "y2=y2[9]*2\n"
   ]
  },
  {
   "cell_type": "code",
   "execution_count": 18,
   "metadata": {},
   "outputs": [],
   "source": [
    "def estimate_coef(x2, y2):\n",
    "    n = np.size(x2)\n",
    "    \n",
    "    mean_x2 = np.mean(x2)\n",
    "    mean_y2 = np.mean(y2)\n",
    "   \n",
    "    SS_xy = np.sum(y2*x2) - n*mean_y2*mean_x2\n",
    "    SS_xx = np.sum(x2*x2) - n*mean_x2*mean_x2\n",
    "    \n",
    "    b_1 = SS_xy / SS_xx\n",
    "    b_0 = mean_y2 - b_1*mean_x2\n",
    "    \n",
    "    return (b_0, b_1)"
   ]
  },
  {
   "cell_type": "code",
   "execution_count": 19,
   "metadata": {},
   "outputs": [
    {
     "name": "stdout",
     "output_type": "stream",
     "text": [
      "(6907.346512543494, 7.885875437372075e-14)\n"
     ]
    }
   ],
   "source": [
    "print(estimate_coef(x2, y2))"
   ]
  }
 ],
 "metadata": {
  "kernelspec": {
   "display_name": "Python 3",
   "language": "python",
   "name": "python3"
  },
  "language_info": {
   "codemirror_mode": {
    "name": "ipython",
    "version": 3
   },
   "file_extension": ".py",
   "mimetype": "text/x-python",
   "name": "python",
   "nbconvert_exporter": "python",
   "pygments_lexer": "ipython3",
   "version": "3.8.5"
  }
 },
 "nbformat": 4,
 "nbformat_minor": 4
}

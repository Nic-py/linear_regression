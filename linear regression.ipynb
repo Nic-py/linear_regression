{
 "cells": [
  {
   "cell_type": "code",
   "execution_count": 13,
   "metadata": {},
   "outputs": [],
   "source": [
    "import numpy as np\n",
    "import matplotlib.pyplot as plt"
   ]
  },
  {
   "cell_type": "code",
   "execution_count": 19,
   "metadata": {},
   "outputs": [],
   "source": [
    "#Generate data\n",
    "#randomly select 20 X values between 0 and 100. use uniform distribution\n",
    "x = np.random.uniform(0, 100, 20)\n",
    "\n",
    "#creating an outlier. It says double the value of y for your 10th data point. Then run the function"
   ]
  },
  {
   "cell_type": "code",
   "execution_count": 20,
   "metadata": {},
   "outputs": [],
   "source": [
    "#calculate Y values using 50x + 22 + RANDOM_VARIATION\n",
    "#use normal distribution with values between -1 and 1 \n",
    "rand_var =  np.random.normal(-1, 1, 20)\n",
    "y = (50*x) + 22 + rand_var\n"
   ]
  },
  {
   "cell_type": "code",
   "execution_count": 43,
   "metadata": {},
   "outputs": [],
   "source": [
    "def estimate_coef(x, y):\n",
    "    n = np.size(x)\n",
    "    \n",
    "    mean_x = np.mean(x)\n",
    "    mean_y = np.mean(y)\n",
    "    \n",
    "    SS_xy = np.sum(y*x) - n*mean_y*mean_x\n",
    "    SS_xx = np.sum(x*x) - n*mean_x*mean_x\n",
    "    \n",
    "    b_1 = SS_xy / SS_xx\n",
    "    b_0 = mean_y - b_1*mean_x\n",
    "    \n",
    "    return (b_0, b_1)\n",
    "     "
   ]
  },
  {
   "cell_type": "code",
   "execution_count": 44,
   "metadata": {},
   "outputs": [
    {
     "name": "stdout",
     "output_type": "stream",
     "text": [
      "(21.737270300385717, 49.9890902559703)\n"
     ]
    }
   ],
   "source": [
    "print(estimate_coef(x, y))"
   ]
  }
 ],
 "metadata": {
  "kernelspec": {
   "display_name": "Python 3",
   "language": "python",
   "name": "python3"
  },
  "language_info": {
   "codemirror_mode": {
    "name": "ipython",
    "version": 3
   },
   "file_extension": ".py",
   "mimetype": "text/x-python",
   "name": "python",
   "nbconvert_exporter": "python",
   "pygments_lexer": "ipython3",
   "version": "3.8.5"
  }
 },
 "nbformat": 4,
 "nbformat_minor": 4
}
